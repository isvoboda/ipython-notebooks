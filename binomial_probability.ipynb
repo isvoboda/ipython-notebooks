{
 "cells": [
  {
   "cell_type": "markdown",
   "metadata": {},
   "source": [
    "# Binomické Rozdělení\n",
    "\n",
    "Binomické rozdělní popisuje $\\mathbf{k}$ počet úspěchů v řadě $\\mathbf{N}$ nezávislých pokusů.\n",
    "\n",
    "Takže, v Lidlu akci na jogurty protože 1% naskladněných může mít jinou příchuť než deklaruje obal, v tu chvíli je vyslán Jonáš na nákupy (Jonáš proto, že Lucka je ještě malá a Miki musí pařit Witchera. Chudák Jonáš)\n",
    "\n",
    "1. Jaká je pravděpodobnost, že koupí-li Jonek **1** jogurt, tak bude chutnat jinak? \n",
    "1. Jaká je pravděpodobnost, že koupí-li Jonek **3** jogurty, **všechny** budou chutnat jak mají?\n",
    "1. Jaká je pravděpodobnost, že koupí-li Jonek **3** jogurty, **právě jeden** bude chutnat jinak?\n",
    "1. Jaká je pravděpodobnost, že koupí-li Jonek **3** jogurty **alespoň** jeden bude chutnat jinak?\n"
   ]
  },
  {
   "cell_type": "markdown",
   "metadata": {},
   "source": [
    "## Pravděpodobnost, že koupí-li Jonek **1** jogurt, tak bude chutnat jinak\n",
    "\n",
    "Víme, že 1% je špatně označených.\n",
    "Označme si tyto dva stavy pomocí dvou symbolů\n",
    "\n",
    "- *špatně označen*, budeme psát $f$\n",
    "- *správně označen* $t$\n",
    "\n",
    "Nás teď zajímá, pravděpodobnost: $p(f)$, tedy pravděpodobnost, že jogurt bude $f$ špatně označen.\n",
    "\n",
    "Tady ze zadání víme, že 1% je špatně označených, takže $p(f) = 0.01$"
   ]
  },
  {
   "cell_type": "markdown",
   "metadata": {},
   "source": [
    "## Pravděpodobnost, že koupí-li Jonek 3 jogurty, všechny budou chutnat jak mají\n",
    "\n",
    "Tohle můžeme rozepsat tak, že jonek donese 3 jogurty všechny se stavem $\\left\\{ t,t,t \\right\\}$\n",
    "\n",
    "Víme, že $p(t)= 1 - p(f) = 0.99$ tedy výsledná pravděpodobnost je $p(t)^3 = 0.99^3 = 0.970299$\n",
    "\n",
    "Jen pro zajímavost, můžeme přímo použít kanón ve formě binomické pravděpodobnostní distribuční funkce, tedy:\n",
    "\n",
    "$$\\binom{N}{k} p(t)^{k} (1-p(t))^{N-k}$$\n",
    "\n",
    "Což při dosazení je:\n",
    "\n",
    "$$\\binom{3}{3} \\cdot 0.99^{3} \\cdot 0.01^{3-3} = \\binom{3}{3} \\cdot 0.99^{3} \\cdot 0.01^{0} = 1 \\cdot 0.99^{3} \\cdot 1 = 0.99^{3} = 0.970299$$"
   ]
  },
  {
   "cell_type": "markdown",
   "metadata": {},
   "source": [
    "## Pravděpodobnost, že koupí-li Jonek 3 jogurty, právě jeden bude chutnat jinak\n",
    "\n",
    "Vlastně hledáme pravděpodobnost, že to, co Jonek vybere, bude buď:\n",
    "\n",
    "- $(t,f,f)$, nebo $(f,t,f)$ a nebo $(f,f,t)$\n",
    "\n",
    "Protože je fuk, kterou z těch tří variant vybereme, použije se triku s kombinančním číslem.\n",
    "$$\\binom{3}{1} \\cdot 0.99^{2} \\cdot 0.01^{3-2} = 0.029403$$\n",
    "\n",
    "Dále následuje kód v programovacím jazyce **python** se sadou funkcí pro symbolické výpočty **sympy**\n"
   ]
  },
  {
   "cell_type": "code",
   "execution_count": 1,
   "metadata": {},
   "outputs": [],
   "source": [
    "import sympy as sp\n",
    "from sympy import binomial\n",
    "from sympy import init_printing\n",
    "\n",
    "init_printing()\n",
    "\n",
    "N, k = sp.symbols(\"N, k\", integer=True, positive=True)\n",
    "t, f = sp.symbols(\"t, f\")"
   ]
  },
  {
   "cell_type": "code",
   "execution_count": 2,
   "metadata": {},
   "outputs": [
    {
     "data": {
      "image/png": "[encoded data removed]",
      "text/latex": [
       "$$f^{N - k} t^{k} {\\binom{N}{k}}$$"
      ],
      "text/plain": [
       " N - k  k ⎛N⎞\n",
       "f     ⋅t ⋅⎜ ⎟\n",
       "          ⎝k⎠"
      ]
     },
     "execution_count": 2,
     "metadata": {},
     "output_type": "execute_result"
    }
   ],
   "source": [
    "expression = binomial(N,k) * t**(k) * f**(N-k)\n",
    "# Vypíše se výraz, do kterého dále dosadíme\n",
    "expression"
   ]
  },
  {
   "cell_type": "code",
   "execution_count": 3,
   "metadata": {},
   "outputs": [
    {
     "data": {
      "image/png": "[encoded data removed]",
      "text/latex": [
       "$$0.029403$$"
      ],
      "text/plain": [
       "0.0294030000000000"
      ]
     },
     "execution_count": 3,
     "metadata": {},
     "output_type": "execute_result"
    }
   ],
   "source": [
    "# A konečně dosadíme\n",
    "result = expression.subs([(N,3),(k,1),(t,0.01), (f,0.99)])\n",
    "result"
   ]
  },
  {
   "cell_type": "markdown",
   "metadata": {},
   "source": [
    "## Pravděpodobnost, že koupí-li Jonek 3 jogurty, alespoň jeden bude chutnat jinak\n",
    "\n",
    "Vlastně hledáme pravděpodobnost, že to, co Jonek vybere, bude buď:\n",
    "\n",
    "- $(t,f,f)$, $(f,t,f)$, $(f,f,t)$\n",
    "- $(t,t,f)$, $(t,f,t)$, $(f,t,t)$\n",
    "- $(t,t,t)$\n",
    "\n",
    "Protože je fuk, kterou z těch sedmi variant vybereme, použije se triku s kombinančním číslem.\n",
    "$$p(alespon jeden) = \\left( \\binom{3}{1} \\cdot 0.99^{2} \\cdot 0.01^{1} \\right) + \\left( \\binom{3}{2} \\cdot 0.99^{1} \\cdot 0.01^{2} \\right) + \\left(\\binom{3}{3} \\cdot 0.99^{0} \\cdot 0.01^{3}\\right)$$\n",
    "\n",
    "Formálně zapsáno:\n",
    "\n",
    "$$\\sum_{k=1}^{N} \\binom{N}{k} \\cdot 0.99^{N-k} \\cdot 0.01^{k}$$\n",
    "\n",
    "Což se ale rovná\n",
    "\n",
    "$$1 - \\binom{3}{0} \\cdot 0.99^{3} \\cdot 0.01^{0}$$"
   ]
  },
  {
   "cell_type": "code",
   "execution_count": 4,
   "metadata": {},
   "outputs": [
    {
     "data": {
      "image/png": "[encoded data removed]",
      "text/latex": [
       "$$\\sum_{k=1}^{N} f^{N - k} t^{k} {\\binom{N}{k}}$$"
      ],
      "text/plain": [
       "  N                \n",
       " ____              \n",
       " ╲                 \n",
       "  ╲    N - k  k ⎛N⎞\n",
       "   ╲  f     ⋅t ⋅⎜ ⎟\n",
       "   ╱            ⎝k⎠\n",
       "  ╱                \n",
       " ╱                 \n",
       " ‾‾‾‾              \n",
       "k = 1              "
      ]
     },
     "execution_count": 4,
     "metadata": {},
     "output_type": "execute_result"
    }
   ],
   "source": [
    "# Zkusme předchozí tvrzení ověřit\n",
    "sum_expr = sp.Sum(expression,(k,1,N))\n",
    "sum_expr"
   ]
  },
  {
   "cell_type": "code",
   "execution_count": 5,
   "metadata": {},
   "outputs": [
    {
     "data": {
      "image/png": "[encoded data removed]",
      "text/latex": [
       "$$0.029701$$"
      ],
      "text/plain": [
       "0.0297010000000000"
      ]
     },
     "execution_count": 5,
     "metadata": {},
     "output_type": "execute_result"
    }
   ],
   "source": [
    "# Dosadíme hodnoty a vypočítáme\n",
    "sum_expr.subs([(N,3),(t,0.01), (f,0.99)]).doit()"
   ]
  },
  {
   "cell_type": "code",
   "execution_count": 6,
   "metadata": {},
   "outputs": [
    {
     "data": {
      "image/png": "[encoded data removed]",
      "text/latex": [
       "$$0.029701$$"
      ],
      "text/plain": [
       "0.0297010000000000"
      ]
     },
     "execution_count": 6,
     "metadata": {},
     "output_type": "execute_result"
    }
   ],
   "source": [
    "# Teď zkusíme 1 - (3 nad 0) * t^3 * f^0\n",
    "1-expression.subs([(N,3), (k,0), (t,0.01), (f,0.99)])"
   ]
  },
  {
   "cell_type": "code",
   "execution_count": null,
   "metadata": {},
   "outputs": [],
   "source": []
  }
 ],
 "metadata": {
  "kernelspec": {
   "display_name": "Python 3",
   "language": "python",
   "name": "python3"
  },
  "language_info": {
   "codemirror_mode": {
    "name": "ipython",
    "version": 3
   },
   "file_extension": ".py",
   "mimetype": "text/x-python",
   "name": "python",
   "nbconvert_exporter": "python",
   "pygments_lexer": "ipython3",
   "version": "3.5.2"
  }
 },
 "nbformat": 4,
 "nbformat_minor": 2
}
